{
 "cells": [
  {
   "cell_type": "markdown",
   "metadata": {},
   "source": [
    "## Table of Contents\n",
    "\n",
    "* [Exploring PCA Analysis](#Chapter1)\n",
    "    * [Importing Required Libraries 1.1](#section_1_1)\n",
    "    * [Load Files 1.2](#section_1_2)\n",
    "    * [PC1 VS PC2 1.3](#section_1_3)\n",
    "    * [DB Scan Model 1.4](#section_1_4)\n",
    "    * [Results DataClass 1.5](#section_1_5)\n",
    "    * [Silhouette Scores 1.6](#section_1_6)\n",
    "    "
   ]
  },
  {
   "cell_type": "markdown",
   "metadata": {},
   "source": [
    "## Exploring PCA Analysis <a class=\"anchor\" id=\"Chapter1\"></a>"
   ]
  },
  {
   "cell_type": "markdown",
   "metadata": {},
   "source": [
    "\n",
    "Given an input PCA, find the correlations among the external variables with the PCA.\n",
    "Draw inference among the attributes using mutiple methods and determine the clusters \n",
    "based on PCA data along with other metrics.\n"
   ]
  },
  {
   "cell_type": "markdown",
   "metadata": {},
   "source": [
    "### Importing Required Libraries <a class=\"anchor\" id=\"section_1_1\"></a>"
   ]
  },
  {
   "cell_type": "code",
   "execution_count": 1,
   "metadata": {},
   "outputs": [],
   "source": [
    "import pandas as pd\n",
    "import csv\n",
    "import numpy as np\n",
    "import seaborn as sns\n",
    "import statsmodels.formula.api as smf\n",
    "from scipy import stats\n",
    "from scipy.stats import pearsonr\n",
    "import scipy.stats as stats\n",
    "from sklearn.pipeline import Pipeline\n",
    "from sklearn.preprocessing import MinMaxScaler, StandardScaler, RobustScaler, QuantileTransformer, PowerTransformer\n",
    "from sklearn.decomposition import PCA\n",
    "from sklearn.cluster import DBSCAN\n",
    "from sklearn import metrics\n",
    "from sklearn.datasets import make_blobs\n",
    "from sklearn.preprocessing import StandardScaler\n",
    "import matplotlib.pyplot as plt\n",
    "import os\n",
    "from dataclasses import dataclass\n",
    "from collections import Counter\n",
    "from sklearn.metrics import silhouette_score\n",
    "\n",
    "\n",
    "#Input your working directory here\n",
    "os.chdir('C://Users//usury//Desktop//AROMYX-INTERNSHIP//DS//PC1-PC2')"
   ]
  },
  {
   "cell_type": "markdown",
   "metadata": {},
   "source": [
    "### Load Files <a class=\"anchor\" id=\"section_1_2\"></a>"
   ]
  },
  {
   "cell_type": "code",
   "execution_count": 2,
   "metadata": {},
   "outputs": [],
   "source": [
    "'''\n",
    "    Load the input columns of the PCA analysis. eg: PC1,PC2,PC3... in pcaData.\n",
    "    Load the external features/ attributes that requires the correlation. eg: fruity, body-rich, etc.\n",
    "'''\n",
    "\n",
    "pcaData = pd.read_csv('pcaData.csv')\n",
    "externalFeatures = pd.read_csv('externalFeatures.csv')"
   ]
  },
  {
   "cell_type": "code",
   "execution_count": 3,
   "metadata": {},
   "outputs": [
    {
     "data": {
      "text/html": [
       "<div>\n",
       "<style scoped>\n",
       "    .dataframe tbody tr th:only-of-type {\n",
       "        vertical-align: middle;\n",
       "    }\n",
       "\n",
       "    .dataframe tbody tr th {\n",
       "        vertical-align: top;\n",
       "    }\n",
       "\n",
       "    .dataframe thead th {\n",
       "        text-align: right;\n",
       "    }\n",
       "</style>\n",
       "<table border=\"1\" class=\"dataframe\">\n",
       "  <thead>\n",
       "    <tr style=\"text-align: right;\">\n",
       "      <th></th>\n",
       "      <th>pc1</th>\n",
       "      <th>pc2</th>\n",
       "    </tr>\n",
       "  </thead>\n",
       "  <tbody>\n",
       "    <tr>\n",
       "      <th>0</th>\n",
       "      <td>-0.601950</td>\n",
       "      <td>0.584576</td>\n",
       "    </tr>\n",
       "    <tr>\n",
       "      <th>1</th>\n",
       "      <td>-0.053254</td>\n",
       "      <td>-0.023200</td>\n",
       "    </tr>\n",
       "    <tr>\n",
       "      <th>2</th>\n",
       "      <td>-0.964375</td>\n",
       "      <td>-0.704537</td>\n",
       "    </tr>\n",
       "    <tr>\n",
       "      <th>3</th>\n",
       "      <td>-0.857416</td>\n",
       "      <td>-0.424904</td>\n",
       "    </tr>\n",
       "    <tr>\n",
       "      <th>4</th>\n",
       "      <td>-0.767245</td>\n",
       "      <td>-0.699032</td>\n",
       "    </tr>\n",
       "    <tr>\n",
       "      <th>5</th>\n",
       "      <td>-0.386508</td>\n",
       "      <td>-0.327904</td>\n",
       "    </tr>\n",
       "    <tr>\n",
       "      <th>6</th>\n",
       "      <td>0.059092</td>\n",
       "      <td>-1.000000</td>\n",
       "    </tr>\n",
       "    <tr>\n",
       "      <th>7</th>\n",
       "      <td>-0.364680</td>\n",
       "      <td>-0.196879</td>\n",
       "    </tr>\n",
       "    <tr>\n",
       "      <th>8</th>\n",
       "      <td>-0.575141</td>\n",
       "      <td>-0.548478</td>\n",
       "    </tr>\n",
       "    <tr>\n",
       "      <th>9</th>\n",
       "      <td>-1.000000</td>\n",
       "      <td>-0.420057</td>\n",
       "    </tr>\n",
       "    <tr>\n",
       "      <th>10</th>\n",
       "      <td>-0.416454</td>\n",
       "      <td>-0.493570</td>\n",
       "    </tr>\n",
       "    <tr>\n",
       "      <th>11</th>\n",
       "      <td>0.090891</td>\n",
       "      <td>0.263310</td>\n",
       "    </tr>\n",
       "    <tr>\n",
       "      <th>12</th>\n",
       "      <td>-0.212732</td>\n",
       "      <td>0.404112</td>\n",
       "    </tr>\n",
       "    <tr>\n",
       "      <th>13</th>\n",
       "      <td>-0.479092</td>\n",
       "      <td>1.000000</td>\n",
       "    </tr>\n",
       "    <tr>\n",
       "      <th>14</th>\n",
       "      <td>1.000000</td>\n",
       "      <td>-0.542474</td>\n",
       "    </tr>\n",
       "    <tr>\n",
       "      <th>15</th>\n",
       "      <td>0.425970</td>\n",
       "      <td>-0.306607</td>\n",
       "    </tr>\n",
       "  </tbody>\n",
       "</table>\n",
       "</div>"
      ],
      "text/plain": [
       "         pc1       pc2\n",
       "0  -0.601950  0.584576\n",
       "1  -0.053254 -0.023200\n",
       "2  -0.964375 -0.704537\n",
       "3  -0.857416 -0.424904\n",
       "4  -0.767245 -0.699032\n",
       "5  -0.386508 -0.327904\n",
       "6   0.059092 -1.000000\n",
       "7  -0.364680 -0.196879\n",
       "8  -0.575141 -0.548478\n",
       "9  -1.000000 -0.420057\n",
       "10 -0.416454 -0.493570\n",
       "11  0.090891  0.263310\n",
       "12 -0.212732  0.404112\n",
       "13 -0.479092  1.000000\n",
       "14  1.000000 -0.542474\n",
       "15  0.425970 -0.306607"
      ]
     },
     "execution_count": 3,
     "metadata": {},
     "output_type": "execute_result"
    }
   ],
   "source": [
    "pcaData"
   ]
  },
  {
   "cell_type": "code",
   "execution_count": 4,
   "metadata": {},
   "outputs": [
    {
     "data": {
      "text/html": [
       "<div>\n",
       "<style scoped>\n",
       "    .dataframe tbody tr th:only-of-type {\n",
       "        vertical-align: middle;\n",
       "    }\n",
       "\n",
       "    .dataframe tbody tr th {\n",
       "        vertical-align: top;\n",
       "    }\n",
       "\n",
       "    .dataframe thead th {\n",
       "        text-align: right;\n",
       "    }\n",
       "</style>\n",
       "<table border=\"1\" class=\"dataframe\">\n",
       "  <thead>\n",
       "    <tr style=\"text-align: right;\">\n",
       "      <th></th>\n",
       "      <th>body_rich</th>\n",
       "      <th>fruity</th>\n",
       "    </tr>\n",
       "  </thead>\n",
       "  <tbody>\n",
       "    <tr>\n",
       "      <th>0</th>\n",
       "      <td>0.00</td>\n",
       "      <td>0.1</td>\n",
       "    </tr>\n",
       "    <tr>\n",
       "      <th>1</th>\n",
       "      <td>0.20</td>\n",
       "      <td>-0.8</td>\n",
       "    </tr>\n",
       "    <tr>\n",
       "      <th>2</th>\n",
       "      <td>1.00</td>\n",
       "      <td>-0.5</td>\n",
       "    </tr>\n",
       "    <tr>\n",
       "      <th>3</th>\n",
       "      <td>-0.30</td>\n",
       "      <td>0.2</td>\n",
       "    </tr>\n",
       "    <tr>\n",
       "      <th>4</th>\n",
       "      <td>-0.90</td>\n",
       "      <td>-0.2</td>\n",
       "    </tr>\n",
       "    <tr>\n",
       "      <th>5</th>\n",
       "      <td>0.70</td>\n",
       "      <td>-1.0</td>\n",
       "    </tr>\n",
       "    <tr>\n",
       "      <th>6</th>\n",
       "      <td>0.40</td>\n",
       "      <td>0.0</td>\n",
       "    </tr>\n",
       "    <tr>\n",
       "      <th>7</th>\n",
       "      <td>0.30</td>\n",
       "      <td>0.7</td>\n",
       "    </tr>\n",
       "    <tr>\n",
       "      <th>8</th>\n",
       "      <td>0.00</td>\n",
       "      <td>0.6</td>\n",
       "    </tr>\n",
       "    <tr>\n",
       "      <th>9</th>\n",
       "      <td>0.90</td>\n",
       "      <td>0.8</td>\n",
       "    </tr>\n",
       "    <tr>\n",
       "      <th>10</th>\n",
       "      <td>-0.80</td>\n",
       "      <td>0.5</td>\n",
       "    </tr>\n",
       "    <tr>\n",
       "      <th>11</th>\n",
       "      <td>-0.20</td>\n",
       "      <td>-0.4</td>\n",
       "    </tr>\n",
       "    <tr>\n",
       "      <th>12</th>\n",
       "      <td>0.80</td>\n",
       "      <td>0.3</td>\n",
       "    </tr>\n",
       "    <tr>\n",
       "      <th>13</th>\n",
       "      <td>-0.85</td>\n",
       "      <td>-0.9</td>\n",
       "    </tr>\n",
       "    <tr>\n",
       "      <th>14</th>\n",
       "      <td>-0.25</td>\n",
       "      <td>-0.8</td>\n",
       "    </tr>\n",
       "    <tr>\n",
       "      <th>15</th>\n",
       "      <td>-1.00</td>\n",
       "      <td>1.0</td>\n",
       "    </tr>\n",
       "  </tbody>\n",
       "</table>\n",
       "</div>"
      ],
      "text/plain": [
       "    body_rich  fruity\n",
       "0        0.00     0.1\n",
       "1        0.20    -0.8\n",
       "2        1.00    -0.5\n",
       "3       -0.30     0.2\n",
       "4       -0.90    -0.2\n",
       "5        0.70    -1.0\n",
       "6        0.40     0.0\n",
       "7        0.30     0.7\n",
       "8        0.00     0.6\n",
       "9        0.90     0.8\n",
       "10      -0.80     0.5\n",
       "11      -0.20    -0.4\n",
       "12       0.80     0.3\n",
       "13      -0.85    -0.9\n",
       "14      -0.25    -0.8\n",
       "15      -1.00     1.0"
      ]
     },
     "execution_count": 4,
     "metadata": {},
     "output_type": "execute_result"
    }
   ],
   "source": [
    "externalFeatures"
   ]
  },
  {
   "cell_type": "markdown",
   "metadata": {},
   "source": [
    "### PC1 VS PC2 <a class=\"anchor\" id=\"section_1_3\"></a>"
   ]
  },
  {
   "cell_type": "code",
   "execution_count": 5,
   "metadata": {},
   "outputs": [
    {
     "data": {
      "image/png": "[encoded data removed]",
      "text/plain": [
       "<Figure size 432x288 with 1 Axes>"
      ]
     },
     "metadata": {
      "needs_background": "light"
     },
     "output_type": "display_data"
    }
   ],
   "source": [
    "'''\n",
    "    Plotting the input data as it is to check the clusters visually.\n",
    "'''\n",
    "x = pcaData['pc1']\n",
    "y = pcaData['pc2']\n",
    "_ = plt.plot(x,\n",
    "             y,\n",
    "             marker='*',\n",
    "             linewidth=0,\n",
    "             color='#129128')\n",
    "\n",
    "_ = plt.grid(which='major', color='#fdddda', alpha=0.45)\n",
    "_ = plt.title('PC1 VS PC2', family='Arial', fontsize=12)\n",
    "_ = plt.xlabel('PC1')\n",
    "_ = plt.ylabel('PC2')\n",
    "_ = plt.show()"
   ]
  },
  {
   "cell_type": "code",
   "execution_count": 6,
   "metadata": {},
   "outputs": [
    {
     "data": {
      "text/plain": [
       "array([[-0.54938616,  1.54938453],\n",
       "       [ 0.51572309,  0.3712609 ],\n",
       "       [-1.25291426, -0.9494548 ],\n",
       "       [-1.04528947, -0.40740959],\n",
       "       [-0.87025248, -0.93878398],\n",
       "       [-0.13117872, -0.21938273],\n",
       "       [ 0.73380412, -1.52218504],\n",
       "       [-0.08880613,  0.03459819],\n",
       "       [-0.49734564, -0.64694735],\n",
       "       [-1.32206811, -0.39801288],\n",
       "       [-0.18930822, -0.54051335],\n",
       "       [ 0.79553252,  0.92663679],\n",
       "       [ 0.20614921,  1.19956875],\n",
       "       [-0.3108993 ,  2.35464876],\n",
       "       [ 2.56026345, -0.63530799],\n",
       "       [ 1.44597611, -0.1781002 ]])"
      ]
     },
     "execution_count": 6,
     "metadata": {},
     "output_type": "execute_result"
    }
   ],
   "source": [
    "# Normalize data\n",
    "pcaData1 = pcaData.values.astype('float')\n",
    "scaledData = StandardScaler().fit(pcaData1)\n",
    "scaledData1 = scaledData.transform(pcaData1)\n",
    "scaledData1"
   ]
  },
  {
   "cell_type": "markdown",
   "metadata": {},
   "source": [
    "\n",
    "### DBSCAN Model <a class=\"anchor\" id=\"section_1_4\"></a>"
   ]
  },
  {
   "cell_type": "code",
   "execution_count": 7,
   "metadata": {},
   "outputs": [
    {
     "data": {
      "text/plain": [
       "DBSCAN(algorithm='auto', eps=0.65, leaf_size=30, metric='euclidean',\n",
       "       metric_params=None, min_samples=4, n_jobs=None, p=None)"
      ]
     },
     "execution_count": 7,
     "metadata": {},
     "output_type": "execute_result"
    }
   ],
   "source": [
    "'''\n",
    "    DBSCAN: Density-Based Spatial Clustering of Applications with Noise.Finds core samples of high density and expands clusters from them. \n",
    "    epsfloat: The maximum distance between two samples for one to be considered as in the neighborhood of the other.\n",
    "    min_samplesint: The number of samples (or total weight) in a neighborhood for a point to be considered as a core point. This includes the point itself.\n",
    "\n",
    "'''\n",
    "model = DBSCAN(eps=0.65, min_samples=4, metric = 'euclidean').\\\n",
    "fit(scaledData1)\n",
    "\n",
    "model"
   ]
  },
  {
   "cell_type": "code",
   "execution_count": 8,
   "metadata": {},
   "outputs": [],
   "source": [
    "outliers_df = pcaData[model.labels_ == -1]\n",
    "clusters_df = pcaData[model.labels_ != -1]"
   ]
  },
  {
   "cell_type": "code",
   "execution_count": 9,
   "metadata": {},
   "outputs": [
    {
     "data": {
      "text/plain": [
       "array([-1, -1,  0,  0,  0,  0, -1,  0,  0,  0,  0, -1, -1, -1, -1, -1],\n",
       "      dtype=int64)"
      ]
     },
     "execution_count": 9,
     "metadata": {},
     "output_type": "execute_result"
    }
   ],
   "source": [
    "model.labels_"
   ]
  },
  {
   "cell_type": "code",
   "execution_count": 10,
   "metadata": {},
   "outputs": [
    {
     "name": "stdout",
     "output_type": "stream",
     "text": [
      "Counter({-1: 8, 0: 8})\n",
      "         pc1       pc2\n",
      "0  -0.601950  0.584576\n",
      "1  -0.053254 -0.023200\n",
      "6   0.059092 -1.000000\n",
      "11  0.090891  0.263310\n",
      "12 -0.212732  0.404112\n",
      "13 -0.479092  1.000000\n",
      "14  1.000000 -0.542474\n",
      "15  0.425970 -0.306607\n",
      "Number of clusters = 1\n"
     ]
    }
   ],
   "source": [
    "colors = model.labels_\n",
    "colors_clusters = colors[colors != -1]\n",
    "color_outliers = 'black'\n",
    "\n",
    "clusters = Counter(model.labels_)\n",
    "print(clusters)\n",
    "print(pcaData[model.labels_ == -1])\n",
    "print('Number of clusters = {}'.format(len(clusters) - 1))"
   ]
  },
  {
   "cell_type": "code",
   "execution_count": 11,
   "metadata": {},
   "outputs": [
    {
     "data": {
      "image/png": "[encoded data removed]",
      "text/plain": [
       "<Figure size 432x288 with 1 Axes>"
      ]
     },
     "metadata": {
      "needs_background": "light"
     },
     "output_type": "display_data"
    }
   ],
   "source": [
    "fig = plt.figure()\n",
    "\n",
    "ax = fig.add_axes([.1, .1, 1, 1])\n",
    "\n",
    "ax.scatter(clusters_df[['pc1']], clusters_df[['pc2']], edgecolor='black', s=50)\n",
    "\n",
    "ax.scatter(outliers_df[['pc1']], outliers_df[['pc2']], edgecolor='black', s=30)\n",
    "\n",
    "ax.set_xlabel('PC1', family='Arial', fontsize=9)\n",
    "ax.set_ylabel('PC2', family='Arial', fontsize=9)\n",
    "plt.title('DBSCAN', family='Arial', fontsize=12)\n",
    "plt.grid(which='major', color='#cccccc', alpha=0.45)\n",
    "plt.show()"
   ]
  },
  {
   "cell_type": "markdown",
   "metadata": {},
   "source": [
    "### Results DataClass <a class=\"anchor\" id=\"section_1_5\"></a>"
   ]
  },
  {
   "cell_type": "code",
   "execution_count": 12,
   "metadata": {},
   "outputs": [
    {
     "data": {
      "text/plain": [
       "Correlationstat(PCA=         pc1       pc2\n",
       "0  -0.601950  0.584576\n",
       "1  -0.053254 -0.023200\n",
       "2  -0.964375 -0.704537\n",
       "3  -0.857416 -0.424904\n",
       "4  -0.767245 -0.699032\n",
       "5  -0.386508 -0.327904\n",
       "6   0.059092 -1.000000\n",
       "7  -0.364680 -0.196879\n",
       "8  -0.575141 -0.548478\n",
       "9  -1.000000 -0.420057\n",
       "10 -0.416454 -0.493570\n",
       "11  0.090891  0.263310\n",
       "12 -0.212732  0.404112\n",
       "13 -0.479092  1.000000\n",
       "14  1.000000 -0.542474\n",
       "15  0.425970 -0.306607, Features=    body_rich  fruity\n",
       "0        0.00     0.1\n",
       "1        0.20    -0.8\n",
       "2        1.00    -0.5\n",
       "3       -0.30     0.2\n",
       "4       -0.90    -0.2\n",
       "5        0.70    -1.0\n",
       "6        0.40     0.0\n",
       "7        0.30     0.7\n",
       "8        0.00     0.6\n",
       "9        0.90     0.8\n",
       "10      -0.80     0.5\n",
       "11      -0.20    -0.4\n",
       "12       0.80     0.3\n",
       "13      -0.85    -0.9\n",
       "14      -0.25    -0.8\n",
       "15      -1.00     1.0)"
      ]
     },
     "execution_count": 12,
     "metadata": {},
     "output_type": "execute_result"
    }
   ],
   "source": [
    "@dataclass\n",
    "class Correlationstat:\n",
    "    PCA: dict()\n",
    "    Features: dict()\n",
    "\n",
    "    def result_stat(pcaData, externalFeatures):\n",
    "        # Creating a new global datafram to hold the results\n",
    "        global corrdf\n",
    "        corrdf = pd.DataFrame()\n",
    "        resultdict = {}\n",
    "\n",
    "        # Iternating through each of the dataset\n",
    "        for i in pcaData.columns:\n",
    "            for j in externalFeatures.columns:\n",
    "                data1 = pcaData[i]\n",
    "                data2 = externalFeatures[j]\n",
    "\n",
    "                # Finding pearsons, spearmans, kendall correlation\n",
    "                pres, pval = pearsonr(data1, data2)\n",
    "                sres, sval = stats.spearmanr(data1, data2)\n",
    "                ktau, kval = stats.kendalltau(data1, data2)\n",
    "\n",
    "                # Loading the dataframe into a dataframe\n",
    "                tempdf = pd.DataFrame(\n",
    "                    data=[[i, j, pres, pval, sres, sval, ktau, kval]],\n",
    "                    columns=[\n",
    "                        'Dataset1', 'Dataset2', 'Pearson_Correlation_Coeff',\n",
    "                        'Pearson_pvalue', 'Spearmans_Correlation_Coeff',\n",
    "                        'Spearmans_pvalue', 'Kendall_tau', 'Kendall_pvalue'\n",
    "                    ])\n",
    "                corrdf = corrdf.append(tempdf)\n",
    "        corrdf = corrdf.reset_index(drop=True, inplace=False)\n",
    "        # returning a correlation result dataframe\n",
    "        return corrdf\n",
    "\n",
    "    def result(df):\n",
    "\n",
    "        # Main logic for determining the results based on different types of correlation\n",
    "        try:\n",
    "            # Can use any mask variable. ie: Spearmans_pvalue/ Pearson_pvalue/ Kendall_pvalue\n",
    "            # Checks if the pvalue is less than 0.05\n",
    "            mask = (df.loc[:, ['Spearmans_pvalue']] < 0.05).values.all()\n",
    "            # Core filter\n",
    "            if mask:\n",
    "                resvar = df.loc[:, [\n",
    "                    'Dataset1', 'Dataset2', 'Spearmans_Correlation_Coeff'\n",
    "                ]][mask]\n",
    "                maxindex = resvar['Spearmans_Correlation_Coeff'].apply(\n",
    "                    abs).idxmax()\n",
    "                if df.loc[maxindex, 'Spearmans_Correlation_Coeff'] > 0:\n",
    "                    return df.loc[maxindex, ['Dataset1', 'Dataset2']]\n",
    "                else:\n",
    "\n",
    "                    print('Not able to determine the results')\n",
    "\n",
    "        except Exception as e:\n",
    "            print(e)\n",
    "\n",
    "        try:\n",
    "            # Determine the result based on max spearmans correlation coefficient.\n",
    "            resvar = df.loc[:, [\n",
    "                'Dataset1', 'Dataset2', 'Spearmans_Correlation_Coeff'\n",
    "            ]]['Spearmans_Correlation_Coeff'].apply(abs).idxmax()\n",
    "            return df.loc[resvar, ['Dataset1', 'Dataset2']]\n",
    "\n",
    "        except Exception as e:\n",
    "            print(e)\n",
    "\n",
    "    def result_calc(corrdf):\n",
    "        # Splitting the dataframe according to PC1/PC2\n",
    "        split_index = len(corrdf) // 2\n",
    "        df1 = corrdf[0:split_index]\n",
    "        df2 = corrdf[split_index:len(corrdf)]\n",
    "        # Getting results for PC1\n",
    "        r1 = Correlationstat.result(df1)\n",
    "        # Removing all the rows corresponding to the results obtained in PC1/ eliminate redundancy\n",
    "        df2 = df2[df2.Dataset2 != r1[1]]\n",
    "        # Getting results for PC2\n",
    "        r2 = Correlationstat.result(df2)\n",
    "        # Returning the results\n",
    "        return r1[0] + ':' + r1[1], r2[0] + ':' + r2[1]\n",
    "\n",
    "\n",
    "Correlationstat(pcaData, externalFeatures)\n",
    "\n",
    "# For final results->Correlationstat.result_calc(corrdf)\n",
    "# For the result dataframe->Correlationstat.result_stat(pcaData, externalFeatures)"
   ]
  },
  {
   "cell_type": "code",
   "execution_count": 13,
   "metadata": {},
   "outputs": [
    {
     "data": {
      "text/html": [
       "<div>\n",
       "<style scoped>\n",
       "    .dataframe tbody tr th:only-of-type {\n",
       "        vertical-align: middle;\n",
       "    }\n",
       "\n",
       "    .dataframe tbody tr th {\n",
       "        vertical-align: top;\n",
       "    }\n",
       "\n",
       "    .dataframe thead th {\n",
       "        text-align: right;\n",
       "    }\n",
       "</style>\n",
       "<table border=\"1\" class=\"dataframe\">\n",
       "  <thead>\n",
       "    <tr style=\"text-align: right;\">\n",
       "      <th></th>\n",
       "      <th>Dataset1</th>\n",
       "      <th>Dataset2</th>\n",
       "      <th>Pearson_Correlation_Coeff</th>\n",
       "      <th>Pearson_pvalue</th>\n",
       "      <th>Spearmans_Correlation_Coeff</th>\n",
       "      <th>Spearmans_pvalue</th>\n",
       "      <th>Kendall_tau</th>\n",
       "      <th>Kendall_pvalue</th>\n",
       "    </tr>\n",
       "  </thead>\n",
       "  <tbody>\n",
       "    <tr>\n",
       "      <th>0</th>\n",
       "      <td>pc1</td>\n",
       "      <td>body_rich</td>\n",
       "      <td>-0.265985</td>\n",
       "      <td>0.319383</td>\n",
       "      <td>-0.216336</td>\n",
       "      <td>0.420966</td>\n",
       "      <td>-0.142261</td>\n",
       "      <td>0.443581</td>\n",
       "    </tr>\n",
       "    <tr>\n",
       "      <th>1</th>\n",
       "      <td>pc1</td>\n",
       "      <td>fruity</td>\n",
       "      <td>-0.181350</td>\n",
       "      <td>0.501480</td>\n",
       "      <td>-0.129507</td>\n",
       "      <td>0.632630</td>\n",
       "      <td>-0.092051</td>\n",
       "      <td>0.620071</td>\n",
       "    </tr>\n",
       "    <tr>\n",
       "      <th>2</th>\n",
       "      <td>pc2</td>\n",
       "      <td>body_rich</td>\n",
       "      <td>-0.143701</td>\n",
       "      <td>0.595457</td>\n",
       "      <td>-0.095659</td>\n",
       "      <td>0.724534</td>\n",
       "      <td>-0.092051</td>\n",
       "      <td>0.620071</td>\n",
       "    </tr>\n",
       "    <tr>\n",
       "      <th>3</th>\n",
       "      <td>pc2</td>\n",
       "      <td>fruity</td>\n",
       "      <td>-0.206782</td>\n",
       "      <td>0.442252</td>\n",
       "      <td>-0.063282</td>\n",
       "      <td>0.815896</td>\n",
       "      <td>-0.041841</td>\n",
       "      <td>0.821714</td>\n",
       "    </tr>\n",
       "  </tbody>\n",
       "</table>\n",
       "</div>"
      ],
      "text/plain": [
       "  Dataset1   Dataset2  Pearson_Correlation_Coeff  Pearson_pvalue  \\\n",
       "0      pc1  body_rich                  -0.265985        0.319383   \n",
       "1      pc1     fruity                  -0.181350        0.501480   \n",
       "2      pc2  body_rich                  -0.143701        0.595457   \n",
       "3      pc2     fruity                  -0.206782        0.442252   \n",
       "\n",
       "   Spearmans_Correlation_Coeff  Spearmans_pvalue  Kendall_tau  Kendall_pvalue  \n",
       "0                    -0.216336          0.420966    -0.142261        0.443581  \n",
       "1                    -0.129507          0.632630    -0.092051        0.620071  \n",
       "2                    -0.095659          0.724534    -0.092051        0.620071  \n",
       "3                    -0.063282          0.815896    -0.041841        0.821714  "
      ]
     },
     "execution_count": 13,
     "metadata": {},
     "output_type": "execute_result"
    }
   ],
   "source": [
    "Correlationstat.result_stat(pcaData, externalFeatures)"
   ]
  },
  {
   "cell_type": "code",
   "execution_count": 14,
   "metadata": {},
   "outputs": [
    {
     "data": {
      "text/plain": [
       "('pc1:body_rich', 'pc2:fruity')"
      ]
     },
     "execution_count": 14,
     "metadata": {},
     "output_type": "execute_result"
    }
   ],
   "source": [
    "Correlationstat.result_calc(corrdf)"
   ]
  },
  {
   "cell_type": "code",
   "execution_count": 15,
   "metadata": {},
   "outputs": [
    {
     "data": {
      "text/html": [
       "<div>\n",
       "<style scoped>\n",
       "    .dataframe tbody tr th:only-of-type {\n",
       "        vertical-align: middle;\n",
       "    }\n",
       "\n",
       "    .dataframe tbody tr th {\n",
       "        vertical-align: top;\n",
       "    }\n",
       "\n",
       "    .dataframe thead th {\n",
       "        text-align: right;\n",
       "    }\n",
       "</style>\n",
       "<table border=\"1\" class=\"dataframe\">\n",
       "  <thead>\n",
       "    <tr style=\"text-align: right;\">\n",
       "      <th></th>\n",
       "      <th>Year</th>\n",
       "      <th>Country</th>\n",
       "      <th>fruity</th>\n",
       "      <th>body-rich</th>\n",
       "      <th>Hemisphere</th>\n",
       "      <th>SuperRegion</th>\n",
       "      <th>pc1</th>\n",
       "      <th>pc2</th>\n",
       "    </tr>\n",
       "  </thead>\n",
       "  <tbody>\n",
       "    <tr>\n",
       "      <th>0</th>\n",
       "      <td>2017.0</td>\n",
       "      <td>Spain</td>\n",
       "      <td>0.1</td>\n",
       "      <td>0.00</td>\n",
       "      <td>North</td>\n",
       "      <td>Europe</td>\n",
       "      <td>-0.601950</td>\n",
       "      <td>0.584576</td>\n",
       "    </tr>\n",
       "    <tr>\n",
       "      <th>1</th>\n",
       "      <td>2017.0</td>\n",
       "      <td>France</td>\n",
       "      <td>-0.8</td>\n",
       "      <td>0.20</td>\n",
       "      <td>North</td>\n",
       "      <td>Europe</td>\n",
       "      <td>-0.053254</td>\n",
       "      <td>-0.023200</td>\n",
       "    </tr>\n",
       "    <tr>\n",
       "      <th>2</th>\n",
       "      <td>2018.0</td>\n",
       "      <td>Chile</td>\n",
       "      <td>-0.5</td>\n",
       "      <td>1.00</td>\n",
       "      <td>South</td>\n",
       "      <td>South</td>\n",
       "      <td>-0.964375</td>\n",
       "      <td>-0.704537</td>\n",
       "    </tr>\n",
       "    <tr>\n",
       "      <th>3</th>\n",
       "      <td>2018.0</td>\n",
       "      <td>California</td>\n",
       "      <td>0.2</td>\n",
       "      <td>-0.30</td>\n",
       "      <td>North</td>\n",
       "      <td>Unknown</td>\n",
       "      <td>-0.857416</td>\n",
       "      <td>-0.424904</td>\n",
       "    </tr>\n",
       "    <tr>\n",
       "      <th>4</th>\n",
       "      <td>2018.0</td>\n",
       "      <td>France</td>\n",
       "      <td>-0.2</td>\n",
       "      <td>-0.90</td>\n",
       "      <td>North</td>\n",
       "      <td>Europe</td>\n",
       "      <td>-0.767245</td>\n",
       "      <td>-0.699032</td>\n",
       "    </tr>\n",
       "    <tr>\n",
       "      <th>5</th>\n",
       "      <td>2018.0</td>\n",
       "      <td>Italy</td>\n",
       "      <td>-1.0</td>\n",
       "      <td>0.70</td>\n",
       "      <td>North</td>\n",
       "      <td>Europe</td>\n",
       "      <td>-0.386508</td>\n",
       "      <td>-0.327904</td>\n",
       "    </tr>\n",
       "    <tr>\n",
       "      <th>6</th>\n",
       "      <td>2019.0</td>\n",
       "      <td>Argentina</td>\n",
       "      <td>0.0</td>\n",
       "      <td>0.40</td>\n",
       "      <td>South</td>\n",
       "      <td>South</td>\n",
       "      <td>0.059092</td>\n",
       "      <td>-1.000000</td>\n",
       "    </tr>\n",
       "    <tr>\n",
       "      <th>7</th>\n",
       "      <td>2019.0</td>\n",
       "      <td>France</td>\n",
       "      <td>0.7</td>\n",
       "      <td>0.30</td>\n",
       "      <td>North</td>\n",
       "      <td>Europe</td>\n",
       "      <td>-0.364680</td>\n",
       "      <td>-0.196879</td>\n",
       "    </tr>\n",
       "    <tr>\n",
       "      <th>8</th>\n",
       "      <td>2019.0</td>\n",
       "      <td>France</td>\n",
       "      <td>0.6</td>\n",
       "      <td>0.00</td>\n",
       "      <td>North</td>\n",
       "      <td>Europe</td>\n",
       "      <td>-0.575141</td>\n",
       "      <td>-0.548478</td>\n",
       "    </tr>\n",
       "    <tr>\n",
       "      <th>9</th>\n",
       "      <td>2019.0</td>\n",
       "      <td>California</td>\n",
       "      <td>0.8</td>\n",
       "      <td>0.90</td>\n",
       "      <td>North</td>\n",
       "      <td>Unknown</td>\n",
       "      <td>-1.000000</td>\n",
       "      <td>-0.420057</td>\n",
       "    </tr>\n",
       "    <tr>\n",
       "      <th>10</th>\n",
       "      <td>2019.0</td>\n",
       "      <td>France</td>\n",
       "      <td>0.5</td>\n",
       "      <td>-0.80</td>\n",
       "      <td>North</td>\n",
       "      <td>Europe</td>\n",
       "      <td>-0.416454</td>\n",
       "      <td>-0.493570</td>\n",
       "    </tr>\n",
       "    <tr>\n",
       "      <th>11</th>\n",
       "      <td>2019.0</td>\n",
       "      <td>Italy</td>\n",
       "      <td>-0.4</td>\n",
       "      <td>-0.20</td>\n",
       "      <td>North</td>\n",
       "      <td>Europe</td>\n",
       "      <td>0.090891</td>\n",
       "      <td>0.263310</td>\n",
       "    </tr>\n",
       "    <tr>\n",
       "      <th>12</th>\n",
       "      <td>2019.0</td>\n",
       "      <td>Australia</td>\n",
       "      <td>0.3</td>\n",
       "      <td>0.80</td>\n",
       "      <td>South</td>\n",
       "      <td>Unknown</td>\n",
       "      <td>-0.212732</td>\n",
       "      <td>0.404112</td>\n",
       "    </tr>\n",
       "    <tr>\n",
       "      <th>14</th>\n",
       "      <td>2019.0</td>\n",
       "      <td>France</td>\n",
       "      <td>-0.9</td>\n",
       "      <td>-0.85</td>\n",
       "      <td>North</td>\n",
       "      <td>Europe</td>\n",
       "      <td>1.000000</td>\n",
       "      <td>-0.542474</td>\n",
       "    </tr>\n",
       "    <tr>\n",
       "      <th>15</th>\n",
       "      <td>2020.0</td>\n",
       "      <td>France</td>\n",
       "      <td>-0.8</td>\n",
       "      <td>-0.25</td>\n",
       "      <td>North</td>\n",
       "      <td>Europe</td>\n",
       "      <td>0.425970</td>\n",
       "      <td>-0.306607</td>\n",
       "    </tr>\n",
       "  </tbody>\n",
       "</table>\n",
       "</div>"
      ],
      "text/plain": [
       "      Year     Country  fruity  body-rich Hemisphere SuperRegion       pc1  \\\n",
       "0   2017.0       Spain     0.1       0.00      North      Europe -0.601950   \n",
       "1   2017.0      France    -0.8       0.20      North      Europe -0.053254   \n",
       "2   2018.0       Chile    -0.5       1.00      South       South -0.964375   \n",
       "3   2018.0  California     0.2      -0.30      North     Unknown -0.857416   \n",
       "4   2018.0      France    -0.2      -0.90      North      Europe -0.767245   \n",
       "5   2018.0       Italy    -1.0       0.70      North      Europe -0.386508   \n",
       "6   2019.0   Argentina     0.0       0.40      South       South  0.059092   \n",
       "7   2019.0      France     0.7       0.30      North      Europe -0.364680   \n",
       "8   2019.0      France     0.6       0.00      North      Europe -0.575141   \n",
       "9   2019.0  California     0.8       0.90      North     Unknown -1.000000   \n",
       "10  2019.0      France     0.5      -0.80      North      Europe -0.416454   \n",
       "11  2019.0       Italy    -0.4      -0.20      North      Europe  0.090891   \n",
       "12  2019.0   Australia     0.3       0.80      South     Unknown -0.212732   \n",
       "14  2019.0      France    -0.9      -0.85      North      Europe  1.000000   \n",
       "15  2020.0      France    -0.8      -0.25      North      Europe  0.425970   \n",
       "\n",
       "         pc2  \n",
       "0   0.584576  \n",
       "1  -0.023200  \n",
       "2  -0.704537  \n",
       "3  -0.424904  \n",
       "4  -0.699032  \n",
       "5  -0.327904  \n",
       "6  -1.000000  \n",
       "7  -0.196879  \n",
       "8  -0.548478  \n",
       "9  -0.420057  \n",
       "10 -0.493570  \n",
       "11  0.263310  \n",
       "12  0.404112  \n",
       "14 -0.542474  \n",
       "15 -0.306607  "
      ]
     },
     "execution_count": 15,
     "metadata": {},
     "output_type": "execute_result"
    }
   ],
   "source": [
    "ins = pd.read_csv('Aromyx_wine list.xlsx - with_descriptions.csv')\n",
    "ins = ins[[\n",
    "    'Year', 'Country', 'fruity', 'body-rich', 'Hemisphere', 'SuperRegion'\n",
    "]]\n",
    "ins = ins[:16]\n",
    "ins = ins.drop(13)\n",
    "ins['SuperRegion'] = ins['SuperRegion'].fillna('Unknown')\n",
    "ins['pc1'] = pcaData['pc1']\n",
    "ins['pc2'] = pcaData['pc2']\n",
    "ins"
   ]
  },
  {
   "cell_type": "markdown",
   "metadata": {},
   "source": [
    "### Silhouette scores <a class=\"anchor\" id=\"section_1_6\"></a>"
   ]
  },
  {
   "cell_type": "code",
   "execution_count": 16,
   "metadata": {},
   "outputs": [],
   "source": [
    "'''\n",
    "    Silhouette score: means of silhouette coefficient\n",
    "    An instance's silhouette coefficient is equal to (b-a)/max(a,b) where a is the mean\n",
    "    distance to the other instances of the same cluster.\n",
    "'''\n",
    "\n",
    "def df_groups(data, labels):\n",
    "    '''\n",
    "        This function is used to generate multiple groups from the dataset, where the groups are interlinked \n",
    "        We have used a condition where the elements in the groups formed should be more than 3 and also should result in \n",
    "        a cluster more than 1 in the DBSCAN model.\n",
    "\n",
    "    '''\n",
    "    # Creating a df to hold the whole group metrics\n",
    "    df_group_metrics = pd.DataFrame()\n",
    "    print('Silhouette Score of PC1 : PC2 is {}'.format(\n",
    "        silhouette_score(data, labels)))\n",
    "    tempdf1 = pd.DataFrame(data=[[\n",
    "        'PC1', 'PC2',\n",
    "        pd.DataFrame(data), labels,\n",
    "        silhouette_score(data, labels)\n",
    "    ]],\n",
    "                           columns=[\n",
    "                               'Attribute1', 'Attribute2', 'PCA_DATA',\n",
    "                               'Model_labels_', 'Silhouette_Score'\n",
    "                           ])\n",
    "    df_group_metrics = df_group_metrics.append(tempdf1)\n",
    "\n",
    "    # Sort by Country/ Region/ Year/ Hemisphere\n",
    "    filterlist = ['Country', 'SuperRegion', 'Year', 'Hemisphere']\n",
    "    for filterattribute in filterlist:\n",
    "        regiondf = ins.groupby([filterattribute])\n",
    "        for i in regiondf:\n",
    "            mask = (ins.loc[:, [filterattribute]] == i[0]).values\n",
    "            if mask.any():\n",
    "                resvar = ins.loc[:, ['pc1', 'pc2']][mask]\n",
    "                # The number of groups check\n",
    "                if len(resvar) >= 3:\n",
    "                    # DBSCAN Model\n",
    "                    model1 = DBSCAN(eps=0.65, min_samples=4, metric = 'euclidean').\\\n",
    "                    fit(resvar)\n",
    "                    \n",
    "                    # check to see if the number of clusters>2\n",
    "                    if len(np.unique(model1.labels_)) > 1:\n",
    "                        sscore = silhouette_score(resvar, model1.labels_)\n",
    "                        tempdf1 = pd.DataFrame(data=[[\n",
    "                            filterattribute, i[0],\n",
    "                            pd.DataFrame(resvar), model1.labels_, sscore\n",
    "                        ]],\n",
    "                                               columns=[\n",
    "                                                   'Attribute1', 'Attribute2',\n",
    "                                                   'PCA_DATA', 'Model_labels_',\n",
    "                                                   'Silhouette_Score'\n",
    "                                               ])\n",
    "                        df_group_metrics = df_group_metrics.append(tempdf1)\n",
    "    df_group_metrics = df_group_metrics.reset_index(drop=True, inplace=False)\n",
    "    resvar = df_group_metrics.loc[:, [\n",
    "        'Attribute1', 'Attribute2', 'Silhouette_Score'\n",
    "    ]]['Silhouette_Score'].apply(abs).idxmax()\n",
    "    return df_group_metrics.loc[resvar, [\n",
    "        'Attribute1', 'Attribute2', 'Silhouette_Score'\n",
    "    ]], df_group_metrics"
   ]
  },
  {
   "cell_type": "code",
   "execution_count": 17,
   "metadata": {},
   "outputs": [
    {
     "name": "stdout",
     "output_type": "stream",
     "text": [
      "Silhouette Score of PC1 : PC2 is 0.35579116675004546\n"
     ]
    }
   ],
   "source": [
    "# x: Holds the most qualified result attributes\n",
    "# y: Holds complete silhouette metrics\n",
    "x1, y1 = df_groups(scaledData1, model.labels_)"
   ]
  },
  {
   "cell_type": "code",
   "execution_count": 85,
   "metadata": {},
   "outputs": [
    {
     "data": {
      "text/plain": [
       "array(['Hemisphere', 'North'], dtype=object)"
      ]
     },
     "execution_count": 85,
     "metadata": {},
     "output_type": "execute_result"
    }
   ],
   "source": [
    "y1.iloc[i,0:2].values"
   ]
  },
  {
   "cell_type": "code",
   "execution_count": 87,
   "metadata": {},
   "outputs": [
    {
     "data": {
      "image/png": "[encoded data removed]",
      "text/plain": [
       "<Figure size 720x432 with 1 Axes>"
      ]
     },
     "metadata": {
      "needs_background": "light"
     },
     "output_type": "display_data"
    },
    {
     "data": {
      "image/png": "[encoded data removed]",
      "text/plain": [
       "<Figure size 720x432 with 1 Axes>"
      ]
     },
     "metadata": {
      "needs_background": "light"
     },
     "output_type": "display_data"
    },
    {
     "data": {
      "image/png": "[encoded data removed]",
      "text/plain": [
       "<Figure size 720x432 with 1 Axes>"
      ]
     },
     "metadata": {
      "needs_background": "light"
     },
     "output_type": "display_data"
    },
    {
     "data": {
      "image/png": "[encoded data removed]",
      "text/plain": [
       "<Figure size 720x432 with 1 Axes>"
      ]
     },
     "metadata": {
      "needs_background": "light"
     },
     "output_type": "display_data"
    }
   ],
   "source": [
    "# Plotting the scatter plots for different groups:\n",
    "for i in range(1,len(y1)):\n",
    "    fig = plt.figure()\n",
    "\n",
    "    ax = fig.add_axes([.1, .1, 1, 1])\n",
    "\n",
    "    ax.scatter(pcaData['pc1'],pcaData['pc2'], edgecolor='black', s=20)\n",
    "\n",
    "    ax.scatter(y1['PCA_DATA'][i]['pc1'], y1['PCA_DATA'][i]['pc2'], edgecolor='black', s=100,marker='*')\n",
    "\n",
    "    ax.set_xlabel('PC1', family='Arial', fontsize=9)\n",
    "    ax.set_ylabel('PC2', family='Arial', fontsize=9)\n",
    "    plt.title('Groups Based on {}'.format(y1.iloc[i,0:2].values), family='Arial', fontsize=12)\n",
    "    plt.grid(which='major', color='#cccccc', alpha=0.45)\n",
    "    plt.show()"
   ]
  },
  {
   "cell_type": "code",
   "execution_count": 19,
   "metadata": {},
   "outputs": [
    {
     "data": {
      "image/png": "[encoded data removed]",
      "text/plain": [
       "<Figure size 720x432 with 1 Axes>"
      ]
     },
     "metadata": {
      "needs_background": "light"
     },
     "output_type": "display_data"
    }
   ],
   "source": [
    "def Visualization(input_df):\n",
    "    \n",
    "    xaxis = input_df['Attribute1'].astype(str) + ':' + input_df['Attribute2'].astype(str)\n",
    "    x = np.array(xaxis.tolist())\n",
    "    y = np.array(input_df['Silhouette_Score'].values.tolist())\n",
    "    plt.rcParams[\"figure.figsize\"] = (10, 6)\n",
    "    plt.plot(y, marker = 'o')\n",
    "    plt.plot(x, y)\n",
    "    plt.title('Silhouette Score Metrics')\n",
    "\n",
    "Visualization(y1)"
   ]
  }
 ],
 "metadata": {
  "kernelspec": {
   "display_name": "Python 3",
   "language": "python",
   "name": "python3"
  },
  "language_info": {
   "codemirror_mode": {
    "name": "ipython",
    "version": 3
   },
   "file_extension": ".py",
   "mimetype": "text/x-python",
   "name": "python",
   "nbconvert_exporter": "python",
   "pygments_lexer": "ipython3",
   "version": "3.7.6"
  }
 },
 "nbformat": 4,
 "nbformat_minor": 4
}
